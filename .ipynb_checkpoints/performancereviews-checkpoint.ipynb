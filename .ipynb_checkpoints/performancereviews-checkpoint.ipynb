{
 "cells": [
  {
   "cell_type": "markdown",
   "id": "eb5d24a6-5f31-43ea-84d5-0b74f56f6b5a",
   "metadata": {},
   "source": [
    "# Automating Performance Review Reminders"
   ]
  },
  {
   "cell_type": "markdown",
   "id": "123a8302-b6b5-4a81-835a-f487b67930c4",
   "metadata": {},
   "source": [
    "## Imports"
   ]
  },
  {
   "cell_type": "code",
   "execution_count": 1,
   "id": "5359bcc3-585e-46a1-b3d1-7c2bd18a85b4",
   "metadata": {},
   "outputs": [],
   "source": [
    "import pandas as pd\n",
    "import win32com.client as win32\n",
    "from datetime import datetime, timedelta"
   ]
  },
  {
   "cell_type": "code",
   "execution_count": 2,
   "id": "dd82dd91-4144-4940-a826-ae0d2706a735",
   "metadata": {},
   "outputs": [],
   "source": [
    "# MIMEMultipart send emails with both text content and attachments.\n",
    "from email.mime.multipart import MIMEMultipart"
   ]
  },
  {
   "cell_type": "markdown",
   "id": "57136da3-de24-40c1-a651-d93245cd5e09",
   "metadata": {},
   "source": [
    "## Excel file"
   ]
  },
  {
   "cell_type": "code",
   "execution_count": 3,
   "id": "9377105a-426b-4049-a0c8-cd47f084666a",
   "metadata": {},
   "outputs": [],
   "source": [
    "# Load Excel file\n",
    "file_path = 'annualreviews.xlsx'\n",
    "df = pd.read_excel(file_path)"
   ]
  },
  {
   "cell_type": "code",
   "execution_count": 4,
   "id": "2da83251-8d53-40db-b1ed-2f8219524a9a",
   "metadata": {},
   "outputs": [
    {
     "data": {
      "text/html": [
       "<div>\n",
       "<style scoped>\n",
       "    .dataframe tbody tr th:only-of-type {\n",
       "        vertical-align: middle;\n",
       "    }\n",
       "\n",
       "    .dataframe tbody tr th {\n",
       "        vertical-align: top;\n",
       "    }\n",
       "\n",
       "    .dataframe thead th {\n",
       "        text-align: right;\n",
       "    }\n",
       "</style>\n",
       "<table border=\"1\" class=\"dataframe\">\n",
       "  <thead>\n",
       "    <tr style=\"text-align: right;\">\n",
       "      <th></th>\n",
       "      <th>EmployeeName</th>\n",
       "      <th>SupervisorName</th>\n",
       "      <th>SupervisorEmail</th>\n",
       "      <th>ReviewDate</th>\n",
       "      <th>Salary</th>\n",
       "    </tr>\n",
       "  </thead>\n",
       "  <tbody>\n",
       "    <tr>\n",
       "      <th>0</th>\n",
       "      <td>Meredith Childs</td>\n",
       "      <td>Wendy Orson</td>\n",
       "      <td>gjames@bhnstl.org</td>\n",
       "      <td>2023-07-05</td>\n",
       "      <td>85000.0</td>\n",
       "    </tr>\n",
       "    <tr>\n",
       "      <th>1</th>\n",
       "      <td>Elizabeth Gebhart</td>\n",
       "      <td>Wendy Orson</td>\n",
       "      <td>gjames@bhnstl.org</td>\n",
       "      <td>2022-11-07</td>\n",
       "      <td>79310.0</td>\n",
       "    </tr>\n",
       "    <tr>\n",
       "      <th>2</th>\n",
       "      <td>Jennifer Miller</td>\n",
       "      <td>Wendy Orson</td>\n",
       "      <td>gjames@bhnstl.org</td>\n",
       "      <td>2023-03-27</td>\n",
       "      <td>82400.0</td>\n",
       "    </tr>\n",
       "    <tr>\n",
       "      <th>3</th>\n",
       "      <td>Dana Silverblatt</td>\n",
       "      <td>Wendy Orson</td>\n",
       "      <td>gjames@bhnstl.org</td>\n",
       "      <td>2019-06-10</td>\n",
       "      <td>87691.0</td>\n",
       "    </tr>\n",
       "    <tr>\n",
       "      <th>4</th>\n",
       "      <td>Brad Wing</td>\n",
       "      <td>Wendy Orson</td>\n",
       "      <td>gjames@bhnstl.org</td>\n",
       "      <td>2020-10-05</td>\n",
       "      <td>75190.0</td>\n",
       "    </tr>\n",
       "  </tbody>\n",
       "</table>\n",
       "</div>"
      ],
      "text/plain": [
       "        EmployeeName SupervisorName    SupervisorEmail ReviewDate   Salary\n",
       "0    Meredith Childs    Wendy Orson  gjames@bhnstl.org 2023-07-05  85000.0\n",
       "1  Elizabeth Gebhart    Wendy Orson  gjames@bhnstl.org 2022-11-07  79310.0\n",
       "2    Jennifer Miller    Wendy Orson  gjames@bhnstl.org 2023-03-27  82400.0\n",
       "3   Dana Silverblatt    Wendy Orson  gjames@bhnstl.org 2019-06-10  87691.0\n",
       "4          Brad Wing    Wendy Orson  gjames@bhnstl.org 2020-10-05  75190.0"
      ]
     },
     "execution_count": 4,
     "metadata": {},
     "output_type": "execute_result"
    }
   ],
   "source": [
    "df.head()"
   ]
  },
  {
   "cell_type": "markdown",
   "id": "2a62cd30-7195-43bf-8a87-674ea69e0e8c",
   "metadata": {},
   "source": [
    "## Attachments"
   ]
  },
  {
   "cell_type": "code",
   "execution_count": 5,
   "id": "aa07971f-afc3-4a3d-a268-7ce522236669",
   "metadata": {},
   "outputs": [],
   "source": [
    "attachment1 = 'PDF.pdf'\n",
    "attachment2 = 'PROFESSIONAL DEVELOPMENT PLAN.pdf'"
   ]
  },
  {
   "cell_type": "markdown",
   "id": "a363dd24-5641-4110-96bd-06bbdb976713",
   "metadata": {},
   "source": [
    "## Code"
   ]
  },
  {
   "cell_type": "code",
   "execution_count": 6,
   "id": "cc683882-4fe5-442a-af0c-239b2d34bf21",
   "metadata": {},
   "outputs": [],
   "source": [
    "# Get today's date and date one month from now\n",
    "today = datetime.today()\n",
    "one_month_later = today + timedelta(days=30)\n",
    "one_year_later = today + timedelta(days=365)"
   ]
  },
  {
   "cell_type": "code",
   "execution_count": 7,
   "id": "5cc5b99f-10c6-4461-a035-88e69505ffa1",
   "metadata": {},
   "outputs": [],
   "source": [
    "# Initialize Outlook\n",
    "outlook = win32.Dispatch('outlook.application')"
   ]
  },
  {
   "cell_type": "code",
   "execution_count": 8,
   "id": "8b2a97cf-46ff-4327-9c00-f228f8ac6413",
   "metadata": {},
   "outputs": [
    {
     "name": "stdout",
     "output_type": "stream",
     "text": [
      "Email reminders with attachments send successfully\n"
     ]
    }
   ],
   "source": [
    "# Iterate through df\n",
    "for index,row in df.iterrows():\n",
    "    review_date = pd.to_datetime(row['ReviewDate'])\n",
    "    if review_date == one_month_later:\n",
    "        employee_name = row['EmployeeName']\n",
    "        supervisor_name = row['SupervisorName']\n",
    "        supervisor_email = row['SupervisorEmail']\n",
    "        salary = row['Salary']\n",
    "\n",
    "        # Create the email\n",
    "        mail = outlook.CreateItem(0)\n",
    "        mail.To = supervisor_email\n",
    "        mail.Subject = f'Annual Review Reminder for {employee_name}'\n",
    "        mail.Body = f'Dear {supervisor_name},\\n\\nThis is a reminder that {employee_name}\\'s annual review is due on {review_date.strftime(\"%Y-%m-%d\")}. \\n   1% raise: {salary*0.01 + salary} \\n   2% raise: {salary*0.02 + salary} \\n   3% raise: {salary*0.03 + salary} \\n\\nPlease find the necessary documents at the following path: Admin & Board > Performance Review information. Please remember to complete the following documents: \\n   Annual review\\n   ECAF\\n   Professional Development Plan\\n   Self Evaluation (Send to the employee)\\n\\nBest regards,\\nGabby'\n",
    "\n",
    "        # Attachments\n",
    "        #mail.Attachments.Add(Source = r\"C:/Users/gjames/Behavioral Health Network of Greater St. Louis/Behavioral Health Network of Greater St. Louis Team Site - Admin & Board/Performance review information/ANNUAL REVIEW/BHN Annual Review.pdf\")\n",
    "\n",
    "        # Send email\n",
    "        mail.Send()\n",
    "\n",
    "print(\"Email reminders with attachments send successfully\")"
   ]
  },
  {
   "cell_type": "code",
   "execution_count": null,
   "id": "ce8cb69b-3094-4541-81d2-c83d56176823",
   "metadata": {},
   "outputs": [],
   "source": []
  }
 ],
 "metadata": {
  "kernelspec": {
   "display_name": "Python 3 (ipykernel)",
   "language": "python",
   "name": "python3"
  },
  "language_info": {
   "codemirror_mode": {
    "name": "ipython",
    "version": 3
   },
   "file_extension": ".py",
   "mimetype": "text/x-python",
   "name": "python",
   "nbconvert_exporter": "python",
   "pygments_lexer": "ipython3",
   "version": "3.11.7"
  }
 },
 "nbformat": 4,
 "nbformat_minor": 5
}
