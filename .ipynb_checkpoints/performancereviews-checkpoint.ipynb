{
 "cells": [
  {
   "cell_type": "markdown",
   "id": "eb5d24a6-5f31-43ea-84d5-0b74f56f6b5a",
   "metadata": {},
   "source": [
    "# Automating Performance Review Reminders"
   ]
  },
  {
   "cell_type": "code",
   "execution_count": null,
   "id": "a27565db-3cb4-4ef5-b768-e46e0ae51b69",
   "metadata": {},
   "outputs": [],
   "source": []
  }
 ],
 "metadata": {
  "kernelspec": {
   "display_name": "Python 3 (ipykernel)",
   "language": "python",
   "name": "python3"
  },
  "language_info": {
   "codemirror_mode": {
    "name": "ipython",
    "version": 3
   },
   "file_extension": ".py",
   "mimetype": "text/x-python",
   "name": "python",
   "nbconvert_exporter": "python",
   "pygments_lexer": "ipython3",
   "version": "3.11.7"
  }
 },
 "nbformat": 4,
 "nbformat_minor": 5
}
